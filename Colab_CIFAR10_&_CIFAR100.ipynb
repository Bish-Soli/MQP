{
  "cells": [
    {
      "cell_type": "code",
      "execution_count": null,
      "metadata": {
        "colab": {
          "base_uri": "https://localhost:8080/"
        },
        "id": "e-iFEfPnbdjz",
        "outputId": "e0896614-6164-43b1-94bd-fb4213f24a0e"
      },
      "outputs": [
        {
          "output_type": "stream",
          "name": "stdout",
          "text": [
            "Mounted at /content/drive\n"
          ]
        }
      ],
      "source": [
        "from google.colab import drive\n",
        "drive.mount('/content/drive')\n"
      ]
    },
    {
      "cell_type": "code",
      "execution_count": null,
      "metadata": {
        "colab": {
          "base_uri": "https://localhost:8080/"
        },
        "id": "ur72a_0RcWzz",
        "outputId": "bf17f59d-b4c7-47fe-ac76-995844c89832"
      },
      "outputs": [
        {
          "output_type": "stream",
          "name": "stdout",
          "text": [
            "/content/drive/MyDrive/code\n"
          ]
        }
      ],
      "source": [
        "%cd /content/drive/MyDrive/code\n"
      ]
    },
    {
      "cell_type": "code",
      "execution_count": null,
      "metadata": {
        "colab": {
          "base_uri": "https://localhost:8080/"
        },
        "id": "kq33gqqkcewa",
        "outputId": "e4f47d27-5b3b-4388-9222-b5a0b15104d9"
      },
      "outputs": [
        {
          "output_type": "stream",
          "name": "stdout",
          "text": [
            "accuracy_curves.png  loss_curves.png    supcon_cifar100_test.pt   train_distribution.png\n",
            "cifar100_test.pt     losses.py          supcon_cifar100_train.pt  train_models.py\n",
            "cifar100_train.pt    main.py            supcon_cifar10_test.pt    train.pt\n",
            "cifar10_test.pt      models.py          supcon_cifar10_train.pt   tsne.png\n",
            "cifar10_train.pt     pca.png            test_distribution.png     util.py\n",
            "\u001b[0m\u001b[01;34mdata\u001b[0m/                \u001b[01;34m__pycache__\u001b[0m/       test.pt\n",
            "dataset.py           \u001b[01;34msave_models\u001b[0m/       train_ce.sh\n",
            "focal.py             \u001b[01;34msave_tensorboard\u001b[0m/  train_contrastive.sh\n"
          ]
        }
      ],
      "source": [
        "ls\n"
      ]
    },
    {
      "cell_type": "code",
      "execution_count": null,
      "metadata": {
        "id": "THrqYCLJd9Vx",
        "colab": {
          "base_uri": "https://localhost:8080/"
        },
        "outputId": "5ac72506-80a9-4835-fd0f-5e1a5656e501"
      },
      "outputs": [
        {
          "output_type": "stream",
          "name": "stdout",
          "text": [
            "Requirement already satisfied: torch in /usr/local/lib/python3.10/dist-packages (2.1.0+cu121)\n",
            "Requirement already satisfied: torchvision in /usr/local/lib/python3.10/dist-packages (0.16.0+cu121)\n",
            "Requirement already satisfied: numpy in /usr/local/lib/python3.10/dist-packages (1.25.2)\n",
            "Requirement already satisfied: matplotlib in /usr/local/lib/python3.10/dist-packages (3.7.1)\n",
            "Requirement already satisfied: scikit-learn in /usr/local/lib/python3.10/dist-packages (1.2.2)\n",
            "Requirement already satisfied: seaborn in /usr/local/lib/python3.10/dist-packages (0.13.1)\n",
            "Requirement already satisfied: Pillow in /usr/local/lib/python3.10/dist-packages (9.4.0)\n",
            "Requirement already satisfied: filelock in /usr/local/lib/python3.10/dist-packages (from torch) (3.13.1)\n",
            "Requirement already satisfied: typing-extensions in /usr/local/lib/python3.10/dist-packages (from torch) (4.9.0)\n",
            "Requirement already satisfied: sympy in /usr/local/lib/python3.10/dist-packages (from torch) (1.12)\n",
            "Requirement already satisfied: networkx in /usr/local/lib/python3.10/dist-packages (from torch) (3.2.1)\n",
            "Requirement already satisfied: jinja2 in /usr/local/lib/python3.10/dist-packages (from torch) (3.1.3)\n",
            "Requirement already satisfied: fsspec in /usr/local/lib/python3.10/dist-packages (from torch) (2023.6.0)\n",
            "Requirement already satisfied: triton==2.1.0 in /usr/local/lib/python3.10/dist-packages (from torch) (2.1.0)\n",
            "Requirement already satisfied: requests in /usr/local/lib/python3.10/dist-packages (from torchvision) (2.31.0)\n",
            "Requirement already satisfied: contourpy>=1.0.1 in /usr/local/lib/python3.10/dist-packages (from matplotlib) (1.2.0)\n",
            "Requirement already satisfied: cycler>=0.10 in /usr/local/lib/python3.10/dist-packages (from matplotlib) (0.12.1)\n",
            "Requirement already satisfied: fonttools>=4.22.0 in /usr/local/lib/python3.10/dist-packages (from matplotlib) (4.49.0)\n",
            "Requirement already satisfied: kiwisolver>=1.0.1 in /usr/local/lib/python3.10/dist-packages (from matplotlib) (1.4.5)\n",
            "Requirement already satisfied: packaging>=20.0 in /usr/local/lib/python3.10/dist-packages (from matplotlib) (23.2)\n",
            "Requirement already satisfied: pyparsing>=2.3.1 in /usr/local/lib/python3.10/dist-packages (from matplotlib) (3.1.1)\n",
            "Requirement already satisfied: python-dateutil>=2.7 in /usr/local/lib/python3.10/dist-packages (from matplotlib) (2.8.2)\n",
            "Requirement already satisfied: scipy>=1.3.2 in /usr/local/lib/python3.10/dist-packages (from scikit-learn) (1.11.4)\n",
            "Requirement already satisfied: joblib>=1.1.1 in /usr/local/lib/python3.10/dist-packages (from scikit-learn) (1.3.2)\n",
            "Requirement already satisfied: threadpoolctl>=2.0.0 in /usr/local/lib/python3.10/dist-packages (from scikit-learn) (3.3.0)\n",
            "Requirement already satisfied: pandas>=1.2 in /usr/local/lib/python3.10/dist-packages (from seaborn) (1.5.3)\n",
            "Requirement already satisfied: pytz>=2020.1 in /usr/local/lib/python3.10/dist-packages (from pandas>=1.2->seaborn) (2023.4)\n",
            "Requirement already satisfied: six>=1.5 in /usr/local/lib/python3.10/dist-packages (from python-dateutil>=2.7->matplotlib) (1.16.0)\n",
            "Requirement already satisfied: MarkupSafe>=2.0 in /usr/local/lib/python3.10/dist-packages (from jinja2->torch) (2.1.5)\n",
            "Requirement already satisfied: charset-normalizer<4,>=2 in /usr/local/lib/python3.10/dist-packages (from requests->torchvision) (3.3.2)\n",
            "Requirement already satisfied: idna<4,>=2.5 in /usr/local/lib/python3.10/dist-packages (from requests->torchvision) (3.6)\n",
            "Requirement already satisfied: urllib3<3,>=1.21.1 in /usr/local/lib/python3.10/dist-packages (from requests->torchvision) (2.0.7)\n",
            "Requirement already satisfied: certifi>=2017.4.17 in /usr/local/lib/python3.10/dist-packages (from requests->torchvision) (2024.2.2)\n",
            "Requirement already satisfied: mpmath>=0.19 in /usr/local/lib/python3.10/dist-packages (from sympy->torch) (1.3.0)\n"
          ]
        }
      ],
      "source": [
        "!pip install torch torchvision numpy matplotlib scikit-learn seaborn Pillow"
      ]
    },
    {
      "cell_type": "code",
      "execution_count": null,
      "metadata": {
        "id": "exz2Uxq-c5rb"
      },
      "outputs": [],
      "source": [
        "!python main.py --model resnet18 --dataset cifar10  --method CE --load_dataset 0 --epoch 100 --learning_rate 0.1 --batch_size 32 --debug 0"
      ]
    },
    {
      "cell_type": "code",
      "execution_count": null,
      "metadata": {
        "id": "BrXNWOcT1bdB"
      },
      "outputs": [],
      "source": [
        "!python main.py --model resnet34 --dataset cifar10  --method CE --load_dataset 0 --epoch 100 --learning_rate 0.1 --batch_size 32 --debug 0"
      ]
    },
    {
      "cell_type": "code",
      "execution_count": null,
      "metadata": {
        "id": "2vkrcQDZ1c-Y"
      },
      "outputs": [],
      "source": [
        "!python main.py --model resnet50 --dataset cifar10  --method CE --load_dataset 0 --epoch 100 --learning_rate 0.1 --batch_size 32 --debug 0"
      ]
    },
    {
      "cell_type": "code",
      "execution_count": null,
      "metadata": {
        "id": "qO3rrgh_aJl9"
      },
      "outputs": [],
      "source": [
        "!python main.py --model resnet18 --dataset cifar10  --method Focal --load_dataset 0 --epoch 100 --learning_rate 0.1 --batch_size 32 --debug 0"
      ]
    },
    {
      "cell_type": "code",
      "execution_count": null,
      "metadata": {
        "id": "-vNedqzsaOkA"
      },
      "outputs": [],
      "source": [
        "!python main.py --model resnet34 --dataset cifar10  --method Focal --load_dataset 0 --epoch 100 --learning_rate 0.1 --batch_size 32 --debug 0"
      ]
    },
    {
      "cell_type": "code",
      "execution_count": null,
      "metadata": {
        "id": "x_2ArkUiaSYL"
      },
      "outputs": [],
      "source": [
        "!python main.py --model resnet50 --dataset cifar10  --method Focal --load_dataset 0 --epoch 100 --learning_rate 0.1 --batch_size 32 --debug 0"
      ]
    },
    {
      "cell_type": "code",
      "execution_count": null,
      "metadata": {
        "id": "IzxXe_tmaVLU"
      },
      "outputs": [],
      "source": [
        "!python main.py --model resnet18 --dataset cifar10  --method SupCon --load_dataset 0 --epoch 100 --learning_rate 0.1 --batch_size 32 --debug 0 --alpha 1.0 --beta 0.0"
      ]
    },
    {
      "cell_type": "code",
      "execution_count": null,
      "metadata": {
        "id": "2pdNJ-g1admq"
      },
      "outputs": [],
      "source": [
        "!python main.py --model resnet34 --dataset cifar10  --method SupCon --load_dataset 0 --epoch 100 --learning_rate 0.1 --batch_size 32 --debug 0 --alpha 1.0 --beta 0.0"
      ]
    },
    {
      "cell_type": "code",
      "execution_count": null,
      "metadata": {
        "id": "yxkV0uz6af0T"
      },
      "outputs": [],
      "source": [
        "!python main.py --model resnet50 --dataset cifar10  --method SupCon --load_dataset 0 --epoch 100 --learning_rate 0.1 --batch_size 32 --debug 0 --alpha 1.0 --beta 0.0"
      ]
    },
    {
      "cell_type": "code",
      "execution_count": null,
      "metadata": {
        "id": "Gu-W1EHNaiml"
      },
      "outputs": [],
      "source": [
        "!python main.py --model resnet18 --dataset cifar10  --method SupCon --load_dataset 0 --epoch 100 --learning_rate 0.1 --batch_size 32 --debug 0 --alpha 0.5 --beta 0.5"
      ]
    },
    {
      "cell_type": "code",
      "execution_count": null,
      "metadata": {
        "id": "cTLPMtXMauBr"
      },
      "outputs": [],
      "source": [
        "!python main.py --model resnet34 --dataset cifar10  --method SupCon --load_dataset 0 --epoch 100 --learning_rate 0.1 --batch_size 32 --debug 0 --alpha 0.5 --beta 0.5"
      ]
    },
    {
      "cell_type": "code",
      "execution_count": null,
      "metadata": {
        "id": "_Mx3Ff8MavUz"
      },
      "outputs": [],
      "source": [
        "!python main.py --model resnet50 --dataset cifar10  --method SupCon --load_dataset 0 --epoch 100 --learning_rate 0.1 --batch_size 32 --debug 0 --alpha 0.5 --beta 0.5"
      ]
    }
  ],
  "metadata": {
    "accelerator": "GPU",
    "colab": {
      "gpuType": "A100",
      "machine_shape": "hm",
      "provenance": []
    },
    "kernelspec": {
      "display_name": "Python 3",
      "name": "python3"
    },
    "language_info": {
      "name": "python"
    }
  },
  "nbformat": 4,
  "nbformat_minor": 0
}