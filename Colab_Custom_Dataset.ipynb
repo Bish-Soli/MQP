{
  "nbformat": 4,
  "nbformat_minor": 0,
  "metadata": {
    "colab": {
      "provenance": [],
      "gpuType": "V100"
    },
    "kernelspec": {
      "name": "python3",
      "display_name": "Python 3"
    },
    "language_info": {
      "name": "python"
    },
    "accelerator": "GPU"
  },
  "cells": [
    {
      "cell_type": "code",
      "execution_count": null,
      "metadata": {
        "id": "eQMaewbhGMgK"
      },
      "outputs": [],
      "source": [
        "from google.colab import drive\n",
        "drive.mount('/content/drive')\n",
        "\n",
        "%cd /content/drive/MyDrive/Manualdataset"
      ]
    },
    {
      "cell_type": "code",
      "source": [
        "!unzip archive.zip"
      ],
      "metadata": {
        "id": "KHtha9EOKEy5"
      },
      "execution_count": null,
      "outputs": []
    },
    {
      "cell_type": "code",
      "source": [
        "import os\n",
        "import shutil\n",
        "import pandas as pd\n",
        "\n",
        "def organize_dataset(input_folder, csv_file, output_folder):\n",
        "    # Read the CSV file into a DataFrame\n",
        "    df = pd.read_csv(csv_file)\n",
        "\n",
        "    # Create output folders if they don't exist\n",
        "    test_folder = os.path.join(output_folder, 'test')\n",
        "    train_folder = os.path.join(output_folder, 'train')\n",
        "    os.makedirs(test_folder, exist_ok=True)\n",
        "    os.makedirs(train_folder, exist_ok=True)\n",
        "\n",
        "    # Group by label and process each group\n",
        "    grouped = df.groupby('label')\n",
        "\n",
        "    for label, group in grouped:\n",
        "        # Create label directories in test and train folders\n",
        "        test_label_folder = os.path.join(test_folder, label)\n",
        "        train_label_folder = os.path.join(train_folder, label)\n",
        "        os.makedirs(test_label_folder, exist_ok=True)\n",
        "        os.makedirs(train_label_folder, exist_ok=True)\n",
        "\n",
        "        # Get top 5 images for test, the rest for train\n",
        "        test_images = group['filename'].head(8)\n",
        "        train_images = group['filename'].iloc[8:]\n",
        "\n",
        "        # Move the selected images\n",
        "        for filename in test_images:\n",
        "            src_path = os.path.join(input_folder, filename)\n",
        "            dst_path = os.path.join(test_label_folder, filename)\n",
        "            if os.path.exists(src_path):\n",
        "                shutil.move(src_path, dst_path)\n",
        "\n",
        "        for filename in train_images:\n",
        "            src_path = os.path.join(input_folder, filename)\n",
        "            dst_path = os.path.join(train_label_folder, filename)\n",
        "            if os.path.exists(src_path):\n",
        "                shutil.move(src_path, dst_path)\n",
        "\n",
        "# Example usage\n",
        "organize_dataset('/content/drive/MyDrive/Manualdataset/train', '/content/drive/MyDrive/Manualdataset/Training_set.csv', '/content/dataset')\n"
      ],
      "metadata": {
        "id": "itsuCgtjKGxT"
      },
      "execution_count": null,
      "outputs": []
    },
    {
      "cell_type": "code",
      "source": [
        "%cd /content/drive/MyDrive/code/code"
      ],
      "metadata": {
        "colab": {
          "base_uri": "https://localhost:8080/"
        },
        "id": "Aqzz8fxTKIWC",
        "outputId": "7d4393d8-1d9b-4a60-e455-d101bb9b7ffa"
      },
      "execution_count": null,
      "outputs": [
        {
          "output_type": "stream",
          "name": "stdout",
          "text": [
            "/content/drive/MyDrive/code/code\n"
          ]
        }
      ]
    },
    {
      "cell_type": "code",
      "source": [
        "!ls"
      ],
      "metadata": {
        "colab": {
          "base_uri": "https://localhost:8080/"
        },
        "id": "6Lwcl7ynKJ3d",
        "outputId": "6e4fb7a9-71bc-444f-c9d7-1f0c7eebbcd8"
      },
      "execution_count": null,
      "outputs": [
        {
          "output_type": "stream",
          "name": "stdout",
          "text": [
            "data\t\t   focal.py   models.py    save_tensorboard  train_contrastive.sh  util.py\n",
            "dataconversion.py  losses.py  __pycache__  test.pt\t     train_models.py\n",
            "dataset.py\t   main.py    save_models  train_ce.sh\t     train.pt\n"
          ]
        }
      ]
    },
    {
      "cell_type": "code",
      "source": [
        "!pip install torch torchvision numpy matplotlib scikit-learn seaborn Pillow"
      ],
      "metadata": {
        "id": "lNj-v7nDKKRg"
      },
      "execution_count": null,
      "outputs": []
    },
    {
      "cell_type": "code",
      "source": [
        "!python main.py --model resnet18 --data_folder /content/dataset --dataset path  --method CE --load_dataset 0 --epoch 100  --learning_rate 0.1 --batch_size 32  --image_size 64 --trial 1"
      ],
      "metadata": {
        "id": "Y_O5JjBQKM6Q"
      },
      "execution_count": null,
      "outputs": []
    },
    {
      "cell_type": "code",
      "source": [
        "!python main.py --model resnet34 --data_folder /content/dataset --dataset path  --method CE --load_dataset 0 --epoch 100  --learning_rate 0.1 --batch_size 32  --image_size 64 --trial 1"
      ],
      "metadata": {
        "id": "VMVRuG1DKUMX"
      },
      "execution_count": null,
      "outputs": []
    },
    {
      "cell_type": "code",
      "source": [
        "!python main.py --model resnet50 --data_folder /content/dataset --dataset path  --method CE --load_dataset 0 --epoch 100  --learning_rate 0.1 --batch_size 32  --image_size 64 --trial 1"
      ],
      "metadata": {
        "id": "gSkiu-47KXww"
      },
      "execution_count": null,
      "outputs": []
    },
    {
      "cell_type": "code",
      "source": [
        "!python main.py --model resnet18 --data_folder /content/dataset --dataset path  --method Focal --load_dataset 0 --epoch 100  --learning_rate 0.1 --batch_size 32  --image_size 64 --trial 1"
      ],
      "metadata": {
        "id": "q--9S32gKZt6"
      },
      "execution_count": null,
      "outputs": []
    },
    {
      "cell_type": "code",
      "source": [
        "!python main.py --model resnet34 --data_folder /content/dataset --dataset path  --method Focal --load_dataset 0 --epoch 100  --learning_rate 0.1 --batch_size 32  --image_size 64 --trial 1"
      ],
      "metadata": {
        "id": "lDa4dV_aKb-i"
      },
      "execution_count": null,
      "outputs": []
    },
    {
      "cell_type": "code",
      "source": [
        "!python main.py --model resnet50 --data_folder /content/dataset --dataset path  --method Focal --load_dataset 0 --epoch 100  --learning_rate 0.1 --batch_size 32  --image_size 64 --trial 1"
      ],
      "metadata": {
        "id": "-vsaa6BtKfYE"
      },
      "execution_count": null,
      "outputs": []
    },
    {
      "cell_type": "code",
      "source": [
        "!python main.py --model resnet18 --data_folder /content/dataset --dataset path  --method SupCon --load_dataset 0 --epoch 100  --learning_rate 0.1 --batch_size 32  --image_size 64 --trial 1 --alpha 1.0 --beta 0.0"
      ],
      "metadata": {
        "id": "XXJuzTx9Khkw"
      },
      "execution_count": null,
      "outputs": []
    },
    {
      "cell_type": "code",
      "source": [
        "!python main.py --model resnet34 --data_folder /content/dataset --dataset path  --method SupCon --load_dataset 0 --epoch 100  --learning_rate 0.1 --batch_size 32  --image_size 64 --trial 1 --alpha 1.0 --beta 0.0"
      ],
      "metadata": {
        "id": "HrRZLrzJKofh"
      },
      "execution_count": null,
      "outputs": []
    },
    {
      "cell_type": "code",
      "source": [
        "!python main.py --model resnet50 --data_folder /content/dataset --dataset path  --method SupCon --load_dataset 0 --epoch 100  --learning_rate 0.1 --batch_size 32  --image_size 64 --trial 1 --alpha 1.0 --beta 0.0"
      ],
      "metadata": {
        "id": "Dk0kZxLJKrP3"
      },
      "execution_count": null,
      "outputs": []
    },
    {
      "cell_type": "code",
      "source": [
        "!python main.py --model resnet18 --data_folder /content/dataset --dataset path  --method SupCon --load_dataset 0 --epoch 100  --learning_rate 0.1 --batch_size 32  --image_size 64 --trial 1 --alpha 0.5 --beta 0.5"
      ],
      "metadata": {
        "id": "iMY5UugwKtth"
      },
      "execution_count": null,
      "outputs": []
    },
    {
      "cell_type": "code",
      "source": [
        "!python main.py --model resnet34 --data_folder /content/dataset --dataset path  --method SupCon --load_dataset 0 --epoch 100  --learning_rate 0.1 --batch_size 32  --image_size 64 --trial 1 --alpha 0.5 --beta 0.5"
      ],
      "metadata": {
        "id": "mFeI9vC0Kx3b"
      },
      "execution_count": null,
      "outputs": []
    },
    {
      "cell_type": "code",
      "source": [
        "!python main.py --model resnet50 --data_folder /content/dataset --dataset path  --method SupCon --load_dataset 0 --epoch 100  --learning_rate 0.1 --batch_size 32  --image_size 64 --trial 1 --alpha 0.5 --beta 0.5"
      ],
      "metadata": {
        "id": "8APnDiq5K0C2"
      },
      "execution_count": null,
      "outputs": []
    }
  ]
}